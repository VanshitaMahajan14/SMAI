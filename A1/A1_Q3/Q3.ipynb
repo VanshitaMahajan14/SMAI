{
 "cells": [
  {
   "cell_type": "markdown",
   "metadata": {
    "id": "NBjekUKKzDg3"
   },
   "source": [
    "# Assignment 1\n",
    "\n",
    "## Question 3 (Linear Regression)\n",
    "\n",
    "This assignment will have you working and experimenting with linear regression. The general multiple linear regression model, given $p$ predictors, is defined as: $$Y=\\beta_0+\\beta_1X_1+\\beta_2X_2+...+\\beta_pX_p+\\epsilon,$$ where $Y$ is the response variable, $X_j$ is the $j$<sup>th</sup> predictor and $\\beta_j$ quantifies the association between the response and the variable. A good way to think about $\\beta_j$ is as the average effect on $Y$ of a one unit increase in $X_j$, holding all other predictors fixed. The $\\epsilon$ term is the error term, which is independent of $X$ and has mean zero (the expected value of $Y$ when all variables are set to zero).\n",
    "\n",
    "Work with Numpy only and do not use library functions that directly perform model fitting like `np.polyfit`. However, you may use library functions to compare your results while experimenting. This assignment becomes much easier to complete if accompanied by reading the third chapter in An Introduction to Statistical Learning. The text is freely available for download on the internet at [statlearning.com](statlearning.com)\n",
    "\n",
    "Reference: James, G., Witten, D., Hastie, T., Tibshirani, R., Taylor, J. (2023). Linear Regression. In: An Introduction to Statistical Learning. Springer Texts in Statistics. Springer, Cham. https://doi.org/10.1007/978-3-031-38747-0_3"
   ]
  },
  {
   "cell_type": "markdown",
   "metadata": {
    "id": "5j_YEOpDzJDk"
   },
   "source": [
    "### Imports"
   ]
  },
  {
   "cell_type": "code",
   "execution_count": 1203,
   "metadata": {
    "id": "zjmte2ZLzH4Q"
   },
   "outputs": [],
   "source": [
    "import numpy as np\n",
    "import pandas as pd\n",
    "import matplotlib.pyplot as plt\n",
    "from sklearn.metrics import r2_score\n",
    "from sklearn.metrics import mean_squared_error\n",
    "from sklearn.preprocessing import MinMaxScaler\n",
    "from sklearn.preprocessing import StandardScaler\n",
    "from sklearn.linear_model import LinearRegression\n",
    "from sklearn.preprocessing import PolynomialFeatures\n",
    "from sklearn.model_selection import train_test_split\n",
    "# other imports if necessary"
   ]
  },
  {
   "cell_type": "markdown",
   "metadata": {
    "id": "AjVF377ozMjX"
   },
   "source": [
    "### Part 1: Simple Regression\n",
    "\n",
    "In this part, the function `gen_data()` samples hundred data points from a random 25 degree single-variable polynomial. This data is stored in the `predictor` and `response` variables. Your task is to experiment with linear regression on this dataset. Specifically:\n",
    "\n",
    "1. Fit a line to the curve $(y=\\beta_1x+\\beta_0)$\n",
    "2. Fit a polynomial to the curve $(y=\\sum_{0}^{k}\\beta_kx^k)$ and choose $k$ that satisfactorily minimizes error.\n",
    "    - Note that the original polynomial is a 25 degree polynomial and we might not need exactly that many.\n",
    "    - Check how well the coefficients match when we try to fit a 25 degree polynomial to the data. Get the coefficients from the `gen_data()` function.\n",
    "3. Perform L1 and L2 regularization on the curve obtained from step 2.\n",
    "\n",
    "Report error metrics for all experiments in tabular form (or any other way that helps us compare and choose between the different methods)\n",
    "\n"
   ]
  },
  {
   "cell_type": "code",
   "execution_count": 1225,
   "metadata": {
    "id": "9MjixImKzL9Y"
   },
   "outputs": [],
   "source": [
    "def gen_data():\n",
    "    coeff = np.random.rand(25)\n",
    "    x = np.linspace(-1.1, 0.9, 100)\n",
    "    y = np.zeros_like(x)\n",
    "    for i, c in enumerate(coeff):\n",
    "        y += c * x**i\n",
    "    y += np.random.randn(100) * 0.1\n",
    "\n",
    "    return coeff, x, y"
   ]
  },
  {
   "cell_type": "code",
   "execution_count": 1226,
   "metadata": {},
   "outputs": [
    {
     "data": {
      "image/png": "[encoded data removed]",
      "text/plain": [
       "<Figure size 432x288 with 1 Axes>"
      ]
     },
     "metadata": {
      "needs_background": "light"
     },
     "output_type": "display_data"
    }
   ],
   "source": [
    "coeffs, predictor, response = gen_data()\n",
    "len(predictor), predictor.shape, len(response), response.shape\n",
    "X, y = predictor, response\n",
    "X.shape, y.shape\n",
    "X = X.reshape(-1,1)\n",
    "\n",
    "plt.plot(predictor, response, 'r+')\n",
    "plt.xlabel('Predictor')\n",
    "plt.ylabel('Response')\n",
    "plt.title('Sampled Data Points')\n",
    "plt.show()"
   ]
  },
  {
   "cell_type": "code",
   "execution_count": 1227,
   "metadata": {},
   "outputs": [
    {
     "data": {
      "text/plain": [
       "(numpy.ndarray, numpy.ndarray, numpy.ndarray, numpy.ndarray)"
      ]
     },
     "execution_count": 1227,
     "metadata": {},
     "output_type": "execute_result"
    }
   ],
   "source": [
    "# X_train, X_test, y_train, y_test = train_test_split(X, y, test_size=0.2, random_state=42)\n",
    "X_train = X\n",
    "X_test = X\n",
    "y_train = y\n",
    "y_test = y\n",
    "\n",
    "X_copy = X\n",
    "Y_copy = y\n",
    "\n",
    "X_train = np.array(X_train).reshape(-1,1)\n",
    "X_test = np.array(X_test).reshape(-1,1)\n",
    "type(X_train), type(y_train), type(X_test), type(y_test)"
   ]
  },
  {
   "cell_type": "code",
   "execution_count": 1153,
   "metadata": {},
   "outputs": [],
   "source": [
    "# X_train.shape, y_train.shape, X_test.shape, y_test.shape"
   ]
  },
  {
   "cell_type": "markdown",
   "metadata": {},
   "source": [
    "### 1."
   ]
  },
  {
   "cell_type": "markdown",
   "metadata": {},
   "source": [
    "### Linear Regression self-code"
   ]
  },
  {
   "cell_type": "markdown",
   "metadata": {},
   "source": [
    "### The Error function:\n",
    "\n",
    "When fitting linear regression to the curve, we try to minimize the error function (MSE) given by \n",
    "\n",
    "$y=i \\sum_{0}^{n} ($ y<sub>i</sub>  - y<sup>'</sup>)\n",
    "\n"
   ]
  },
  {
   "cell_type": "code",
   "execution_count": 1228,
   "metadata": {},
   "outputs": [],
   "source": [
    "class Lin_Reg:\n",
    "\n",
    "    def __init__(self, learning_rate=0.01, epochs=10000):\n",
    "        self.learning_rate = learning_rate\n",
    "        self.epochs = epochs\n",
    "        self.coeffs = None\n",
    "        self.bias = None\n",
    "\n",
    "    def fit(self, X, y):\n",
    "        m, n = X.shape\n",
    "        print(m,n)\n",
    "        self.coeffs = np.zeros(n)\n",
    "        self.bias = 0\n",
    "\n",
    "        for _ in range(self.epochs):\n",
    "            y_pred = np.dot(X, self.coeffs) + self.bias\n",
    "\n",
    "            dw = (1/m) * np.dot(X.T, (y_pred - y))\n",
    "            db = (1/m) * np.sum(y_pred - y)\n",
    "\n",
    "            self.coeffs = self.coeffs - self.learning_rate * dw\n",
    "            self.bias = self.bias - self.learning_rate * db\n",
    "\n",
    "        return self.coeffs, self.bias\n",
    "\n",
    "    def predict(self, X):\n",
    "        y_pred = np.dot(X, self.coeffs) + self.bias\n",
    "        return y_pred\n",
    "\n",
    "    def mse(self, y_test, predictions):\n",
    "        return np.mean((y_test - predictions) ** 2)"
   ]
  },
  {
   "cell_type": "code",
   "execution_count": 1229,
   "metadata": {},
   "outputs": [
    {
     "name": "stdout",
     "output_type": "stream",
     "text": [
      "100 1\n",
      "MSE for Linear Regression 0.38410898883812544\n",
      "weight for Linear Regression is [0.94272709]\n",
      "Bias on fitting linear regression is 0.8224832512993709\n"
     ]
    }
   ],
   "source": [
    "lin_reg = Lin_Reg()\n",
    "weights, bias = lin_reg.fit(X_train, y_train)\n",
    "pred_lin_reg = lin_reg.predict(X_test)\n",
    "\n",
    "print (\"MSE for Linear Regression\", mean_squared_error(y,pred_lin_reg))\n",
    "print(\"weight for Linear Regression is\", weights)\n",
    "print(\"Bias on fitting linear regression is\", bias)"
   ]
  },
  {
   "cell_type": "code",
   "execution_count": 1230,
   "metadata": {},
   "outputs": [
    {
     "data": {
      "image/png": "[encoded data removed]",
      "text/plain": [
       "<Figure size 432x288 with 1 Axes>"
      ]
     },
     "metadata": {
      "needs_background": "light"
     },
     "output_type": "display_data"
    }
   ],
   "source": [
    "plt.scatter(X_test, y_test, color='blue', label='Actual Data')\n",
    "plt.plot(X_test, pred_lin_reg, color='red', label='Coded Linear Regression')\n",
    "plt.title('Coded Linear Regression Results')\n",
    "plt.xlabel('X_test')\n",
    "plt.ylabel('y_test')\n",
    "plt.legend()\n",
    "plt.show()"
   ]
  },
  {
   "cell_type": "markdown",
   "metadata": {},
   "source": [
    "## Linear Regression using in-built function"
   ]
  },
  {
   "cell_type": "code",
   "execution_count": 1231,
   "metadata": {
    "id": "KVbMVmm72vhB"
   },
   "outputs": [
    {
     "data": {
      "text/plain": [
       "0.38410898883812544"
      ]
     },
     "execution_count": 1231,
     "metadata": {},
     "output_type": "execute_result"
    }
   ],
   "source": [
    "lin_reg_inbuilt = LinearRegression()\n",
    "lin_reg_inbuilt.fit(X_train, y_train)\n",
    "pred_in_built = lin_reg_inbuilt.predict(X_test)\n",
    "mean_squared_error(y_test, pred_in_built)"
   ]
  },
  {
   "cell_type": "code",
   "execution_count": 1232,
   "metadata": {},
   "outputs": [
    {
     "data": {
      "image/png": "[encoded data removed]",
      "text/plain": [
       "<Figure size 432x288 with 1 Axes>"
      ]
     },
     "metadata": {
      "needs_background": "light"
     },
     "output_type": "display_data"
    }
   ],
   "source": [
    "plt.scatter(X_test, y_test, color='blue', label='Actual Data')\n",
    "plt.plot(X_test, pred_in_built, color='red', label='In-built Linear Regression')\n",
    "plt.title('Linear Regression Results')\n",
    "plt.xlabel('X_test')\n",
    "plt.ylabel('y_test')\n",
    "plt.legend()\n",
    "plt.show()"
   ]
  },
  {
   "cell_type": "markdown",
   "metadata": {},
   "source": [
    "### 2."
   ]
  },
  {
   "cell_type": "markdown",
   "metadata": {},
   "source": [
    "### Polynomial Regression"
   ]
  },
  {
   "cell_type": "code",
   "execution_count": 1233,
   "metadata": {},
   "outputs": [
    {
     "data": {
      "text/plain": [
       "(numpy.ndarray, numpy.ndarray, numpy.ndarray, numpy.ndarray)"
      ]
     },
     "execution_count": 1233,
     "metadata": {},
     "output_type": "execute_result"
    }
   ],
   "source": [
    "X, y = predictor, response\n",
    "X.shape, y.shape\n",
    "X = X.reshape(-1,1)\n",
    "\n",
    "# X_train, X_test, y_train, y_test = train_test_split(X, y, test_size=0.8, random_state=42)\n",
    "\n",
    "X_train = X\n",
    "X_test = X\n",
    "y_train = y\n",
    "y_test = y\n",
    "\n",
    "X_train = np.array(X_train).reshape(-1,1)\n",
    "X_test = np.array(X_test).reshape(-1,1)\n",
    "\n",
    "type(X_train), type(y_train), type(X_test), type(y_test)"
   ]
  },
  {
   "cell_type": "code",
   "execution_count": 1234,
   "metadata": {},
   "outputs": [],
   "source": [
    "class Poly_Reg:\n",
    "\n",
    "    def __init__(self, degree = 6, learning_rate=0.1, epochs=1000):\n",
    "        self.degree = degree\n",
    "        self.learning_rate = learning_rate\n",
    "        self.epochs = epochs\n",
    "        self.coeffs = None\n",
    "        self.bias = None\n",
    "\n",
    "    def fit(self, X, y):\n",
    "        X_poly = self._create_poly_features(X)\n",
    "        m, n = X_poly.shape\n",
    "        # m - number of samples\n",
    "        # n - number of features\n",
    "        self.coeffs = np.zeros(n)\n",
    "        self.bias = 0\n",
    "\n",
    "        # Gradient descent to updated weights and bias\n",
    "        \n",
    "        for _ in range(self.epochs):\n",
    "            y_pred = np.dot(X_poly, self.coeffs) + self.bias\n",
    " \n",
    "            dw = (1/m) * np.dot(X_poly.T, (y_pred-y))\n",
    "            db = (1/m) * np.sum(y_pred-y)\n",
    "\n",
    "            self.coeffs = self.coeffs - self.learning_rate * dw\n",
    "            self.bias = self.bias - self.learning_rate * db\n",
    "\n",
    "        return self.coeffs, self.bias\n",
    "\n",
    "    def predict(self, X):\n",
    "        X_poly = self._create_poly_features(X)\n",
    "        y_pred = np.dot(X_poly, self.coeffs) + self.bias\n",
    "        return y_pred\n",
    "\n",
    "    def mse(self, y_test, predictions):\n",
    "        return np.mean((y_test - predictions)**2)\n",
    "\n",
    "    def _create_poly_features(self, X):\n",
    "        X_poly = np.column_stack([X**i for i in range(1, self.degree + 1)])\n",
    "        return X_poly"
   ]
  },
  {
   "cell_type": "code",
   "execution_count": 1235,
   "metadata": {},
   "outputs": [],
   "source": [
    "mse_arr = []\n",
    "\n",
    "for deg in range(1,26):\n",
    "    poly_reg = Poly_Reg(degree = deg)\n",
    "    weights, bias = poly_reg.fit(X_train, y_train)\n",
    "    poly_pred = poly_reg.predict(X_test)\n",
    "    mse = mean_squared_error(y_test, poly_pred)\n",
    "    mse_arr.append(mse)\n"
   ]
  },
  {
   "cell_type": "code",
   "execution_count": 1237,
   "metadata": {},
   "outputs": [
    {
     "data": {
      "text/html": [
       "<div>\n",
       "<style scoped>\n",
       "    .dataframe tbody tr th:only-of-type {\n",
       "        vertical-align: middle;\n",
       "    }\n",
       "\n",
       "    .dataframe tbody tr th {\n",
       "        vertical-align: top;\n",
       "    }\n",
       "\n",
       "    .dataframe thead th {\n",
       "        text-align: right;\n",
       "    }\n",
       "</style>\n",
       "<table border=\"1\" class=\"dataframe\">\n",
       "  <thead>\n",
       "    <tr style=\"text-align: right;\">\n",
       "      <th></th>\n",
       "      <th>Coefficients obtained from gen data</th>\n",
       "      <th>Weights on fitting polynomial</th>\n",
       "    </tr>\n",
       "  </thead>\n",
       "  <tbody>\n",
       "    <tr>\n",
       "      <th>0</th>\n",
       "      <td>0.458704</td>\n",
       "      <td>0.750884</td>\n",
       "    </tr>\n",
       "    <tr>\n",
       "      <th>1</th>\n",
       "      <td>0.916058</td>\n",
       "      <td>0.440943</td>\n",
       "    </tr>\n",
       "    <tr>\n",
       "      <th>2</th>\n",
       "      <td>0.037351</td>\n",
       "      <td>0.543742</td>\n",
       "    </tr>\n",
       "    <tr>\n",
       "      <th>3</th>\n",
       "      <td>0.004662</td>\n",
       "      <td>0.547790</td>\n",
       "    </tr>\n",
       "    <tr>\n",
       "      <th>4</th>\n",
       "      <td>0.981352</td>\n",
       "      <td>0.495212</td>\n",
       "    </tr>\n",
       "    <tr>\n",
       "      <th>5</th>\n",
       "      <td>0.443392</td>\n",
       "      <td>0.530915</td>\n",
       "    </tr>\n",
       "    <tr>\n",
       "      <th>6</th>\n",
       "      <td>0.619466</td>\n",
       "      <td>0.423140</td>\n",
       "    </tr>\n",
       "    <tr>\n",
       "      <th>7</th>\n",
       "      <td>0.636263</td>\n",
       "      <td>0.473604</td>\n",
       "    </tr>\n",
       "    <tr>\n",
       "      <th>8</th>\n",
       "      <td>0.017676</td>\n",
       "      <td>0.342684</td>\n",
       "    </tr>\n",
       "    <tr>\n",
       "      <th>9</th>\n",
       "      <td>0.164146</td>\n",
       "      <td>0.407747</td>\n",
       "    </tr>\n",
       "    <tr>\n",
       "      <th>10</th>\n",
       "      <td>0.324885</td>\n",
       "      <td>0.268414</td>\n",
       "    </tr>\n",
       "    <tr>\n",
       "      <th>11</th>\n",
       "      <td>0.686188</td>\n",
       "      <td>0.344661</td>\n",
       "    </tr>\n",
       "    <tr>\n",
       "      <th>12</th>\n",
       "      <td>0.252683</td>\n",
       "      <td>0.206257</td>\n",
       "    </tr>\n",
       "    <tr>\n",
       "      <th>13</th>\n",
       "      <td>0.524979</td>\n",
       "      <td>0.287697</td>\n",
       "    </tr>\n",
       "    <tr>\n",
       "      <th>14</th>\n",
       "      <td>0.615540</td>\n",
       "      <td>0.157505</td>\n",
       "    </tr>\n",
       "    <tr>\n",
       "      <th>15</th>\n",
       "      <td>0.279360</td>\n",
       "      <td>0.237002</td>\n",
       "    </tr>\n",
       "    <tr>\n",
       "      <th>16</th>\n",
       "      <td>0.946067</td>\n",
       "      <td>0.121579</td>\n",
       "    </tr>\n",
       "    <tr>\n",
       "      <th>17</th>\n",
       "      <td>0.328020</td>\n",
       "      <td>0.191471</td>\n",
       "    </tr>\n",
       "    <tr>\n",
       "      <th>18</th>\n",
       "      <td>0.807691</td>\n",
       "      <td>0.097358</td>\n",
       "    </tr>\n",
       "    <tr>\n",
       "      <th>19</th>\n",
       "      <td>0.344915</td>\n",
       "      <td>0.149565</td>\n",
       "    </tr>\n",
       "    <tr>\n",
       "      <th>20</th>\n",
       "      <td>0.191295</td>\n",
       "      <td>0.083752</td>\n",
       "    </tr>\n",
       "    <tr>\n",
       "      <th>21</th>\n",
       "      <td>0.020882</td>\n",
       "      <td>0.109641</td>\n",
       "    </tr>\n",
       "    <tr>\n",
       "      <th>22</th>\n",
       "      <td>0.034152</td>\n",
       "      <td>0.079920</td>\n",
       "    </tr>\n",
       "    <tr>\n",
       "      <th>23</th>\n",
       "      <td>0.801372</td>\n",
       "      <td>0.070074</td>\n",
       "    </tr>\n",
       "    <tr>\n",
       "      <th>24</th>\n",
       "      <td>0.410878</td>\n",
       "      <td>0.085345</td>\n",
       "    </tr>\n",
       "  </tbody>\n",
       "</table>\n",
       "</div>"
      ],
      "text/plain": [
       "    Coefficients obtained from gen data  Weights on fitting polynomial\n",
       "0                              0.458704                       0.750884\n",
       "1                              0.916058                       0.440943\n",
       "2                              0.037351                       0.543742\n",
       "3                              0.004662                       0.547790\n",
       "4                              0.981352                       0.495212\n",
       "5                              0.443392                       0.530915\n",
       "6                              0.619466                       0.423140\n",
       "7                              0.636263                       0.473604\n",
       "8                              0.017676                       0.342684\n",
       "9                              0.164146                       0.407747\n",
       "10                             0.324885                       0.268414\n",
       "11                             0.686188                       0.344661\n",
       "12                             0.252683                       0.206257\n",
       "13                             0.524979                       0.287697\n",
       "14                             0.615540                       0.157505\n",
       "15                             0.279360                       0.237002\n",
       "16                             0.946067                       0.121579\n",
       "17                             0.328020                       0.191471\n",
       "18                             0.807691                       0.097358\n",
       "19                             0.344915                       0.149565\n",
       "20                             0.191295                       0.083752\n",
       "21                             0.020882                       0.109641\n",
       "22                             0.034152                       0.079920\n",
       "23                             0.801372                       0.070074\n",
       "24                             0.410878                       0.085345"
      ]
     },
     "execution_count": 1237,
     "metadata": {},
     "output_type": "execute_result"
    }
   ],
   "source": [
    "df = pd.DataFrame({'Coefficients obtained from gen data': coeffs, 'Weights on fitting polynomial': weights})\n",
    "df"
   ]
  },
  {
   "cell_type": "code",
   "execution_count": 1238,
   "metadata": {},
   "outputs": [
    {
     "name": "stdout",
     "output_type": "stream",
     "text": [
      " Degree    MSE\n",
      "      1 0.3841\n",
      "      2 0.1085\n",
      "      3 0.1067\n",
      "      4 0.0512\n",
      "      5 0.0512\n",
      "      6 0.0268\n",
      "      7 0.0268\n",
      "      8 0.0173\n",
      "      9 0.0174\n",
      "     10 0.0135\n",
      "     11 0.0136\n",
      "     12 0.0118\n",
      "     13 0.0118\n",
      "     14 0.0110\n",
      "     15 0.0109\n",
      "     16 0.0105\n",
      "     17 0.0104\n",
      "     18 0.0102\n",
      "     19 0.0101\n",
      "     20 0.0100\n",
      "     21 0.0099\n",
      "     22 0.0099\n",
      "     23 0.0098\n",
      "     24 0.0098\n",
      "     25 0.0097\n"
     ]
    }
   ],
   "source": [
    "mse_table = pd.DataFrame({'Degree': np.arange(1, 26), 'MSE': mse_arr})\n",
    "mse_table['MSE'] = mse_table['MSE'].round(4)\n",
    "\n",
    "# Print the table without index\n",
    "print(mse_table.to_string(index=False))"
   ]
  },
  {
   "cell_type": "code",
   "execution_count": 1239,
   "metadata": {},
   "outputs": [
    {
     "name": "stdout",
     "output_type": "stream",
     "text": [
      "The degree of polynomial that fits the the best:  25\n"
     ]
    }
   ],
   "source": [
    "best_degree = np.argmin(mse_arr) + 1  # +1 because degrees start from 1\n",
    "print (\"The degree of polynomial that fits the the best: \", best_degree)"
   ]
  },
  {
   "cell_type": "markdown",
   "metadata": {},
   "source": [
    "### *Observation of MSE with degree and best fit*\n",
    "\n",
    "1. In most instances, the degree with the best fit comes out to be the degree of the polynomial, i.e. 25. However, occassionally best degree comes out to be in the range of 15 - 21. \n",
    "\n",
    "2. We can also observe that the mse tends to stabilize around the degree 13, after which there is only marginal decrease in MSE further with increase in degree. Hence a polynomial of degree approximately 13-15 can also be used to fit accurately to given polynomial to avoid overfitting."
   ]
  },
  {
   "cell_type": "code",
   "execution_count": 1240,
   "metadata": {},
   "outputs": [],
   "source": [
    "best_poly_reg = Poly_Reg(degree=best_degree)\n",
    "best_poly_reg.fit(X_train, y_train)\n",
    "best_poly_pred = best_poly_reg.predict(X_test)"
   ]
  },
  {
   "cell_type": "code",
   "execution_count": 1241,
   "metadata": {},
   "outputs": [
    {
     "data": {
      "image/png": "[encoded data removed]",
      "text/plain": [
       "<Figure size 1080x576 with 1 Axes>"
      ]
     },
     "metadata": {
      "needs_background": "light"
     },
     "output_type": "display_data"
    }
   ],
   "source": [
    "plt.figure(figsize=(15,8))\n",
    "plt.plot(mse_arr,'-o')\n",
    "\n",
    "plt.xlabel('Degree of fitting polynomial')\n",
    "plt.ylabel('MSE Value')\n",
    "plt.title('Effect on Mean Squared Error as degree of polynomial increases')\n",
    "plt.grid(True)\n",
    "plt.show()"
   ]
  },
  {
   "cell_type": "markdown",
   "metadata": {},
   "source": [
    "## *Observation* :\n",
    "\n",
    "1. From the graph, we can see that around polynomial degree 15 the MSE stabilises and there is no decrease in MSE on further increasing the degree. \n",
    "\n",
    "2. Hence, it is safe to assume that degree 15 can be best fitting."
   ]
  },
  {
   "cell_type": "code",
   "execution_count": 1244,
   "metadata": {},
   "outputs": [
    {
     "data": {
      "image/png": "[encoded data removed]",
      "text/plain": [
       "<Figure size 432x288 with 1 Axes>"
      ]
     },
     "metadata": {
      "needs_background": "light"
     },
     "output_type": "display_data"
    }
   ],
   "source": [
    "sorted_indices = np.argsort(X_test[:,0])\n",
    "X_test_sorted = X_test[sorted_indices]\n",
    "best_poly_pred_sorted = best_poly_pred[sorted_indices]\n",
    "\n",
    "plt.scatter(X_test, y_test, color='blue', label='Actual data')\n",
    "plt.plot(X_test_sorted, best_poly_pred_sorted, color='red', label=f'Best fit (Degree {best_degree})')\n",
    "plt.title('Polynomial Regression for Best Fit degree')\n",
    "plt.xlabel('X')\n",
    "plt.ylabel('y')\n",
    "plt.legend()\n",
    "plt.show()"
   ]
  },
  {
   "cell_type": "markdown",
   "metadata": {},
   "source": [
    "### Comparing Linear and Polynomial Regression Fit"
   ]
  },
  {
   "cell_type": "code",
   "execution_count": 1246,
   "metadata": {},
   "outputs": [
    {
     "data": {
      "image/png": "[encoded data removed]",
      "text/plain": [
       "<Figure size 1080x432 with 2 Axes>"
      ]
     },
     "metadata": {
      "needs_background": "light"
     },
     "output_type": "display_data"
    }
   ],
   "source": [
    "plt.figure(figsize=(15,6))\n",
    "\n",
    "plt.subplot(1,2,1)\n",
    "plt.scatter(X_copy, Y_copy, color='blue', label='Actual Data')\n",
    "plt.plot(X_copy, pred_lin_reg, color='red', label='Coded Linear Regression')\n",
    "plt.title('Linear Regression Fit')\n",
    "plt.xlabel('X_test')\n",
    "plt.ylabel('y_test')\n",
    "plt.legend()\n",
    "\n",
    "plt.subplot(1,2,2)\n",
    "plt.scatter(X_test, y_test, color='blue', label='Actual data')\n",
    "plt.plot(X_test_sorted, best_poly_pred_sorted, color='red', label=f'Best fit (Degree {best_degree})')\n",
    "plt.title('Polynomial Regression Best Fit')\n",
    "plt.xlabel('X')\n",
    "plt.ylabel('y')\n",
    "plt.legend()\n",
    "plt.tight_layout()\n",
    "plt.show()"
   ]
  },
  {
   "cell_type": "markdown",
   "metadata": {},
   "source": [
    "### *Observation* :\n",
    "\n",
    "We can see how linear line fits in a more general way while Polynomial regression tries to fit the nuances of the curve more intricately."
   ]
  },
  {
   "cell_type": "markdown",
   "metadata": {},
   "source": [
    "### 3."
   ]
  },
  {
   "cell_type": "markdown",
   "metadata": {},
   "source": [
    "### L1 and L2 Regularisation"
   ]
  },
  {
   "cell_type": "code",
   "execution_count": 1251,
   "metadata": {},
   "outputs": [],
   "source": [
    "class Poly_Reg_Regularise:\n",
    "\n",
    "    def __init__(self, degree=6, learning_rate=0.1, epochs=1000, alpha=0.95, beta=0.95, type=\"\"):\n",
    "        self.degree = degree\n",
    "        self.learning_rate = learning_rate\n",
    "        self.epochs = epochs\n",
    "        self.alpha = alpha  # L1 regularization parameter\n",
    "        self.beta = beta  # L2 regularization parameter\n",
    "        self.coeffs = None\n",
    "        self.bias = None\n",
    "        self.type = type\n",
    "\n",
    "    def fit(self, X, y):\n",
    "        X_poly = self._create_poly_features(X)\n",
    "        m, n = X_poly.shape\n",
    "        # m - number of samples\n",
    "        # n - number of features\n",
    "        self.weights = np.zeros(n)\n",
    "        self.bias = 0\n",
    "\n",
    "        for _ in range(self.epochs):\n",
    "            y_pred = np.dot(X_poly, self.weights) + self.bias\n",
    "\n",
    "            dw = 0\n",
    "\n",
    "            if (self.type == \"Lasso\"):\n",
    "                dw = (1/m) * np.dot(X_poly.T, (y_pred - y)) + (self.alpha/m) * np.sign(self.weights)\n",
    "\n",
    "                # penalizes large coefficients by adding the sign of the weights multiplied by the regularization parameter (self.alpha/m) to the gradient\n",
    "\n",
    "            elif (self.type == \"Ridge\"):\n",
    "                dw = (1/m) * np.dot(X_poly.T, (y_pred - y)) + (self.beta/m) * self.weights\n",
    "\n",
    "                # adds a regularization term proportional to the weights themselves, penalizing large weights but without forcing them to be exactly zero\n",
    "\n",
    "            db = (1/m) * np.sum(y_pred - y)\n",
    "            \n",
    "\n",
    "            self.weights = self.weights - self.learning_rate * dw\n",
    "            self.bias = self.bias - self.learning_rate * db\n",
    "\n",
    "    def predict(self, X):\n",
    "        X_poly = self._create_poly_features(X)\n",
    "        y_pred = np.dot(X_poly, self.weights) + self.bias\n",
    "        return y_pred\n",
    "\n",
    "    def mse(self, y_test, predictions):\n",
    "        return np.mean((y_test - predictions)**2)\n",
    "\n",
    "    def _create_poly_features(self, X):\n",
    "        X_poly = np.column_stack([X**i for i in range(1, self.degree + 1)])\n",
    "        # generates a list of arrays, each containing the original array X raised to a different power from 1 to self.degree\n",
    "        return X_poly"
   ]
  },
  {
   "cell_type": "markdown",
   "metadata": {},
   "source": [
    "### *Fitting Lasso and Ridge Regularization*"
   ]
  },
  {
   "cell_type": "code",
   "execution_count": 1252,
   "metadata": {},
   "outputs": [],
   "source": [
    "mse_arr_lasso = []\n",
    "mse_arr_ridge = []\n",
    "\n",
    "for deg in range(1,25):\n",
    "    \n",
    "    poly_reg_lasso = Poly_Reg_Regularise(degree=deg, type=\"Lasso\")\n",
    "    poly_reg_ridge = Poly_Reg_Regularise(degree=deg, type=\"Ridge\")\n",
    "\n",
    "    poly_reg_lasso.fit(X_train, y_train)\n",
    "    poly_reg_ridge.fit(X_train, y_train)\n",
    "\n",
    "    poly_pred_lasso = poly_reg_lasso.predict(X_test)\n",
    "    poly_pred_ridge= poly_reg_ridge.predict(X_test)\n",
    "\n",
    "    mse_lasso = mean_squared_error(y_test, poly_pred_lasso)\n",
    "    mse_ridge = mean_squared_error(y_test, poly_pred_ridge)\n",
    "\n",
    "    mse_arr_lasso.append(mse_lasso)\n",
    "    mse_arr_ridge.append(mse_ridge)\n"
   ]
  },
  {
   "cell_type": "code",
   "execution_count": 1253,
   "metadata": {},
   "outputs": [],
   "source": [
    "sorted_indices = np.argsort(X_test[:,0])\n",
    "X_test_sorted = X_test[sorted_indices]\n",
    "poly_pred_lasso_sorted = poly_pred_lasso[sorted_indices]\n",
    "poly_pred_ridge_sorted = poly_pred_ridge[sorted_indices]"
   ]
  },
  {
   "cell_type": "code",
   "execution_count": 1254,
   "metadata": {},
   "outputs": [
    {
     "data": {
      "image/png": "[encoded data removed]",
      "text/plain": [
       "<Figure size 1440x432 with 3 Axes>"
      ]
     },
     "metadata": {
      "needs_background": "light"
     },
     "output_type": "display_data"
    }
   ],
   "source": [
    "plt.figure(figsize=(20,6))\n",
    "\n",
    "plt.subplot(1,3,1)\n",
    "plt.scatter(X_test, y_test, color='blue', label='Actual Data')\n",
    "plt.plot(X_test_sorted, best_poly_pred_sorted, color='red')\n",
    "plt.title('Polynomial Regression')\n",
    "plt.xlabel('X_test')\n",
    "plt.ylabel('y_test')\n",
    "plt.legend()\n",
    "\n",
    "plt.subplot(1,3,2)\n",
    "plt.scatter(X_test, y_test, color='blue', label='Actual data')\n",
    "plt.plot(X_test_sorted,  poly_pred_lasso_sorted, color='red')\n",
    "plt.title('Polynomial Regression using Lasso Legularization')\n",
    "plt.xlabel('X')\n",
    "plt.ylabel('y')\n",
    "plt.legend()\n",
    "\n",
    "plt.subplot(1,3,3)\n",
    "plt.scatter(X_test, y_test, color='blue', label='Actual data')\n",
    "plt.plot(X_test_sorted,  poly_pred_ridge_sorted, color='red')\n",
    "plt.title('Polynomial Regression using Ridge Legularization')\n",
    "plt.xlabel('X')\n",
    "plt.ylabel('y')\n",
    "plt.legend()\n",
    "\n",
    "plt.tight_layout()\n",
    "plt.show()"
   ]
  },
  {
   "cell_type": "markdown",
   "metadata": {},
   "source": [
    "### *Observations*\n",
    "\n",
    "1. Polynomial Regression - It tends to fit the training data very closely, capturing intricate details and potentially overfitting if the degree of the polynomial is too high.\n",
    "\n",
    "2. When using Regularisation the curve does not fit as closely to the data, hence allowing room for more general and accurate predictions on the test data.\n",
    "\n",
    "2. Both ridge and lasso provide a balance between flexibility and regularization."
   ]
  },
  {
   "cell_type": "code",
   "execution_count": 1172,
   "metadata": {},
   "outputs": [
    {
     "data": {
      "image/png": "[encoded data removed]",
      "text/plain": [
       "<Figure size 1440x576 with 2 Axes>"
      ]
     },
     "metadata": {
      "needs_background": "light"
     },
     "output_type": "display_data"
    }
   ],
   "source": [
    "plt.figure(figsize=(20,8))\n",
    "\n",
    "plt.subplot(1,2,1)\n",
    "plt.plot(mse_arr_lasso,'-o')\n",
    "plt.title('MSE for Lasso Regularization')\n",
    "plt.xlabel('Degree of Polynomial')\n",
    "plt.ylabel('mse')\n",
    "plt.grid(True)\n",
    "\n",
    "plt.subplot(1,2,2)\n",
    "plt.plot(mse_arr_ridge,'-o')\n",
    "plt.title('MSE for Ridge Regularization')\n",
    "plt.xlabel('Degree of Polynomial')\n",
    "plt.ylabel('mse')\n",
    "plt.grid(True)\n",
    "\n",
    "plt.tight_layout()\n",
    "plt.show()"
   ]
  },
  {
   "cell_type": "code",
   "execution_count": 1255,
   "metadata": {},
   "outputs": [
    {
     "data": {
      "text/html": [
       "<div>\n",
       "<style scoped>\n",
       "    .dataframe tbody tr th:only-of-type {\n",
       "        vertical-align: middle;\n",
       "    }\n",
       "\n",
       "    .dataframe tbody tr th {\n",
       "        vertical-align: top;\n",
       "    }\n",
       "\n",
       "    .dataframe thead th {\n",
       "        text-align: right;\n",
       "    }\n",
       "</style>\n",
       "<table border=\"1\" class=\"dataframe\">\n",
       "  <thead>\n",
       "    <tr style=\"text-align: right;\">\n",
       "      <th></th>\n",
       "      <th>Errors in Ridge</th>\n",
       "      <th>Errors in lasso</th>\n",
       "    </tr>\n",
       "  </thead>\n",
       "  <tbody>\n",
       "    <tr>\n",
       "      <th>0</th>\n",
       "      <td>0.384332</td>\n",
       "      <td>0.384374</td>\n",
       "    </tr>\n",
       "    <tr>\n",
       "      <th>1</th>\n",
       "      <td>0.111979</td>\n",
       "      <td>0.110148</td>\n",
       "    </tr>\n",
       "    <tr>\n",
       "      <th>2</th>\n",
       "      <td>0.110298</td>\n",
       "      <td>0.109887</td>\n",
       "    </tr>\n",
       "    <tr>\n",
       "      <th>3</th>\n",
       "      <td>0.059302</td>\n",
       "      <td>0.058972</td>\n",
       "    </tr>\n",
       "    <tr>\n",
       "      <th>4</th>\n",
       "      <td>0.059315</td>\n",
       "      <td>0.058988</td>\n",
       "    </tr>\n",
       "    <tr>\n",
       "      <th>5</th>\n",
       "      <td>0.034019</td>\n",
       "      <td>0.038573</td>\n",
       "    </tr>\n",
       "    <tr>\n",
       "      <th>6</th>\n",
       "      <td>0.034010</td>\n",
       "      <td>0.038576</td>\n",
       "    </tr>\n",
       "    <tr>\n",
       "      <th>7</th>\n",
       "      <td>0.022602</td>\n",
       "      <td>0.030737</td>\n",
       "    </tr>\n",
       "    <tr>\n",
       "      <th>8</th>\n",
       "      <td>0.022647</td>\n",
       "      <td>0.030732</td>\n",
       "    </tr>\n",
       "    <tr>\n",
       "      <th>9</th>\n",
       "      <td>0.017496</td>\n",
       "      <td>0.029129</td>\n",
       "    </tr>\n",
       "    <tr>\n",
       "      <th>10</th>\n",
       "      <td>0.017545</td>\n",
       "      <td>0.029125</td>\n",
       "    </tr>\n",
       "    <tr>\n",
       "      <th>11</th>\n",
       "      <td>0.015199</td>\n",
       "      <td>0.028787</td>\n",
       "    </tr>\n",
       "    <tr>\n",
       "      <th>12</th>\n",
       "      <td>0.015203</td>\n",
       "      <td>0.028788</td>\n",
       "    </tr>\n",
       "    <tr>\n",
       "      <th>13</th>\n",
       "      <td>0.014145</td>\n",
       "      <td>0.028914</td>\n",
       "    </tr>\n",
       "    <tr>\n",
       "      <th>14</th>\n",
       "      <td>0.014091</td>\n",
       "      <td>0.028946</td>\n",
       "    </tr>\n",
       "    <tr>\n",
       "      <th>15</th>\n",
       "      <td>0.013623</td>\n",
       "      <td>0.029150</td>\n",
       "    </tr>\n",
       "    <tr>\n",
       "      <th>16</th>\n",
       "      <td>0.013527</td>\n",
       "      <td>0.029141</td>\n",
       "    </tr>\n",
       "    <tr>\n",
       "      <th>17</th>\n",
       "      <td>0.013325</td>\n",
       "      <td>0.029344</td>\n",
       "    </tr>\n",
       "    <tr>\n",
       "      <th>18</th>\n",
       "      <td>0.013211</td>\n",
       "      <td>0.029358</td>\n",
       "    </tr>\n",
       "    <tr>\n",
       "      <th>19</th>\n",
       "      <td>0.013122</td>\n",
       "      <td>0.029600</td>\n",
       "    </tr>\n",
       "    <tr>\n",
       "      <th>20</th>\n",
       "      <td>0.013014</td>\n",
       "      <td>0.029609</td>\n",
       "    </tr>\n",
       "    <tr>\n",
       "      <th>21</th>\n",
       "      <td>0.012974</td>\n",
       "      <td>0.029730</td>\n",
       "    </tr>\n",
       "    <tr>\n",
       "      <th>22</th>\n",
       "      <td>0.012886</td>\n",
       "      <td>0.029754</td>\n",
       "    </tr>\n",
       "    <tr>\n",
       "      <th>23</th>\n",
       "      <td>0.012866</td>\n",
       "      <td>0.029879</td>\n",
       "    </tr>\n",
       "  </tbody>\n",
       "</table>\n",
       "</div>"
      ],
      "text/plain": [
       "    Errors in Ridge   Errors in lasso\n",
       "0           0.384332         0.384374\n",
       "1           0.111979         0.110148\n",
       "2           0.110298         0.109887\n",
       "3           0.059302         0.058972\n",
       "4           0.059315         0.058988\n",
       "5           0.034019         0.038573\n",
       "6           0.034010         0.038576\n",
       "7           0.022602         0.030737\n",
       "8           0.022647         0.030732\n",
       "9           0.017496         0.029129\n",
       "10          0.017545         0.029125\n",
       "11          0.015199         0.028787\n",
       "12          0.015203         0.028788\n",
       "13          0.014145         0.028914\n",
       "14          0.014091         0.028946\n",
       "15          0.013623         0.029150\n",
       "16          0.013527         0.029141\n",
       "17          0.013325         0.029344\n",
       "18          0.013211         0.029358\n",
       "19          0.013122         0.029600\n",
       "20          0.013014         0.029609\n",
       "21          0.012974         0.029730\n",
       "22          0.012886         0.029754\n",
       "23          0.012866         0.029879"
      ]
     },
     "execution_count": 1255,
     "metadata": {},
     "output_type": "execute_result"
    }
   ],
   "source": [
    "errors = pd.DataFrame({'Errors in Ridge ': mse_arr_ridge, 'Errors in lasso': mse_arr_lasso})\n",
    "errors"
   ]
  },
  {
   "cell_type": "markdown",
   "metadata": {
    "id": "jvlMEbh_b0pN"
   },
   "source": [
    "### Part 2: Credit Data\n",
    "\n",
    "In this part, we work with the credit.csv file that predicts `Balance` after looking at predictors like `Income`, `Age`, `Limit`, etc. Your task is to understand the relationship between the predictors and response using linear regression techniques. Specifically:\n",
    "\n",
    "1. Perform multiple linear regression on the dataset. $(Y=\\sum\\beta_iX_i+\\epsilon)$\n",
    "2. Test whether all the variables are needed to predict `Balance` or if any of them can be discarded.\n",
    "3. Test for [interaction effects](https://en.wikipedia.org/wiki/Interaction_(statistics)#In_regression) between `Rating` and `Age`.\n",
    "\n",
    "As before, perform the above experiments by obtaining and reporting error metrics for all experiments."
   ]
  },
  {
   "cell_type": "markdown",
   "metadata": {},
   "source": [
    "#### 2.1 Multiple Linear Regression"
   ]
  },
  {
   "cell_type": "code",
   "execution_count": 1173,
   "metadata": {},
   "outputs": [],
   "source": [
    "class Multiple_Lin_Reg:\n",
    "\n",
    "    def __init__(self, learning_rate = 0.1, epochs=10000):\n",
    "        self.learning_rate = learning_rate\n",
    "        self.epochs = epochs\n",
    "        self.coeffs = None\n",
    "        self.bias = None\n",
    "    \n",
    "    def fit(self, X, y):\n",
    "        m, n = X.shape\n",
    "        print(m,n)\n",
    "        self.coeffs = np.zeros(n)\n",
    "        self.bias = 0\n",
    "\n",
    "        for _ in range(self.epochs):\n",
    "            y_pred = np.dot(X, self.coeffs) + self.bias\n",
    "\n",
    "            dw = (1/m) * np.dot(X.T, (y_pred - y))\n",
    "            db = (1/m) * np.sum(y_pred - y)\n",
    "\n",
    "            self.coeffs = self.coeffs - self.learning_rate * dw\n",
    "            self.bias = self.bias - self.learning_rate * db\n",
    "\n",
    "        return self.coeffs, self.bias\n",
    "\n",
    "    def predict(self, X):\n",
    "        y_pred = np.dot(X, self.coeffs) + self.bias\n",
    "        return y_pred\n",
    "\n",
    "    def mse(self, y_test, predictions):\n",
    "        return np.mean((y_test - predictions) ** 2)"
   ]
  },
  {
   "cell_type": "code",
   "execution_count": 1174,
   "metadata": {},
   "outputs": [],
   "source": [
    "scaler = StandardScaler()"
   ]
  },
  {
   "cell_type": "code",
   "execution_count": 1175,
   "metadata": {
    "colab": {
     "base_uri": "https://localhost:8080/",
     "height": 206
    },
    "id": "14AuOLx02x-U",
    "outputId": "f2e84637-2475-419c-ea4e-611e5d998a44"
   },
   "outputs": [
    {
     "data": {
      "text/html": [
       "<div>\n",
       "<style scoped>\n",
       "    .dataframe tbody tr th:only-of-type {\n",
       "        vertical-align: middle;\n",
       "    }\n",
       "\n",
       "    .dataframe tbody tr th {\n",
       "        vertical-align: top;\n",
       "    }\n",
       "\n",
       "    .dataframe thead th {\n",
       "        text-align: right;\n",
       "    }\n",
       "</style>\n",
       "<table border=\"1\" class=\"dataframe\">\n",
       "  <thead>\n",
       "    <tr style=\"text-align: right;\">\n",
       "      <th></th>\n",
       "      <th>Income</th>\n",
       "      <th>Limit</th>\n",
       "      <th>Rating</th>\n",
       "      <th>Cards</th>\n",
       "      <th>Age</th>\n",
       "      <th>Education</th>\n",
       "      <th>Balance</th>\n",
       "    </tr>\n",
       "  </thead>\n",
       "  <tbody>\n",
       "    <tr>\n",
       "      <th>0</th>\n",
       "      <td>14.891</td>\n",
       "      <td>3606</td>\n",
       "      <td>283</td>\n",
       "      <td>2</td>\n",
       "      <td>34</td>\n",
       "      <td>11</td>\n",
       "      <td>333</td>\n",
       "    </tr>\n",
       "    <tr>\n",
       "      <th>1</th>\n",
       "      <td>106.025</td>\n",
       "      <td>6645</td>\n",
       "      <td>483</td>\n",
       "      <td>3</td>\n",
       "      <td>82</td>\n",
       "      <td>15</td>\n",
       "      <td>903</td>\n",
       "    </tr>\n",
       "    <tr>\n",
       "      <th>2</th>\n",
       "      <td>104.593</td>\n",
       "      <td>7075</td>\n",
       "      <td>514</td>\n",
       "      <td>4</td>\n",
       "      <td>71</td>\n",
       "      <td>11</td>\n",
       "      <td>580</td>\n",
       "    </tr>\n",
       "    <tr>\n",
       "      <th>3</th>\n",
       "      <td>148.924</td>\n",
       "      <td>9504</td>\n",
       "      <td>681</td>\n",
       "      <td>3</td>\n",
       "      <td>36</td>\n",
       "      <td>11</td>\n",
       "      <td>964</td>\n",
       "    </tr>\n",
       "    <tr>\n",
       "      <th>4</th>\n",
       "      <td>55.882</td>\n",
       "      <td>4897</td>\n",
       "      <td>357</td>\n",
       "      <td>2</td>\n",
       "      <td>68</td>\n",
       "      <td>16</td>\n",
       "      <td>331</td>\n",
       "    </tr>\n",
       "  </tbody>\n",
       "</table>\n",
       "</div>"
      ],
      "text/plain": [
       "    Income  Limit  Rating  Cards  Age  Education  Balance\n",
       "0   14.891   3606     283      2   34         11      333\n",
       "1  106.025   6645     483      3   82         15      903\n",
       "2  104.593   7075     514      4   71         11      580\n",
       "3  148.924   9504     681      3   36         11      964\n",
       "4   55.882   4897     357      2   68         16      331"
      ]
     },
     "execution_count": 1175,
     "metadata": {},
     "output_type": "execute_result"
    }
   ],
   "source": [
    "credit = pd.read_csv('credit.csv')\n",
    "credit.head()"
   ]
  },
  {
   "cell_type": "code",
   "execution_count": 1176,
   "metadata": {},
   "outputs": [],
   "source": [
    "x = credit.drop('Balance', axis=1)\n",
    "y = credit['Balance']\n",
    "\n",
    "X_train, X_test, y_train, y_test = train_test_split(x, y, test_size=0.2, random_state=42)\n",
    "X_train = X_train.to_numpy()\n",
    "y_train = y_train.to_numpy()\n",
    "X_test = X_test.to_numpy()\n",
    "y_test = y_test.to_numpy()\n",
    "\n",
    "X_train = scaler.fit_transform(X_train)\n",
    "X_test = scaler.fit_transform(X_test)"
   ]
  },
  {
   "cell_type": "code",
   "execution_count": 1177,
   "metadata": {},
   "outputs": [
    {
     "name": "stdout",
     "output_type": "stream",
     "text": [
      "320 6\n",
      "weights [-257.50846042  330.0014357   293.54090199   20.43449784  -15.47752702\n",
      "    7.16355238]\n",
      "bias 518.8249999999944\n"
     ]
    }
   ],
   "source": [
    "mult_lin_reg_model = Multiple_Lin_Reg(learning_rate=0.01, epochs=10000)\n",
    "weights, bias = mult_lin_reg_model.fit(X_train, y_train)\n",
    "print(\"weights\", weights)\n",
    "print(\"bias\", bias)"
   ]
  },
  {
   "cell_type": "code",
   "execution_count": 1178,
   "metadata": {},
   "outputs": [
    {
     "name": "stdout",
     "output_type": "stream",
     "text": [
      "Mse in balance in calculating balance 42906.56241476693\n"
     ]
    }
   ],
   "source": [
    "# Make predictions\n",
    "\n",
    "predictions = mult_lin_reg_model.predict(X_test)\n",
    "mse_original = mean_squared_error(y_test, predictions)\n",
    "print(\"Mse in balance in calculating balance\", mse_original)"
   ]
  },
  {
   "cell_type": "code",
   "execution_count": 1179,
   "metadata": {},
   "outputs": [
    {
     "data": {
      "text/plain": [
       "42906.56241476693"
      ]
     },
     "execution_count": 1179,
     "metadata": {},
     "output_type": "execute_result"
    }
   ],
   "source": [
    "mean_squared_error(y_test, predictions)"
   ]
  },
  {
   "cell_type": "markdown",
   "metadata": {},
   "source": [
    "####  2.2 Which feature has least effect:"
   ]
  },
  {
   "cell_type": "markdown",
   "metadata": {},
   "source": [
    "#### *Excluding Income*"
   ]
  },
  {
   "cell_type": "code",
   "execution_count": 1180,
   "metadata": {},
   "outputs": [
    {
     "data": {
      "text/html": [
       "<div>\n",
       "<style scoped>\n",
       "    .dataframe tbody tr th:only-of-type {\n",
       "        vertical-align: middle;\n",
       "    }\n",
       "\n",
       "    .dataframe tbody tr th {\n",
       "        vertical-align: top;\n",
       "    }\n",
       "\n",
       "    .dataframe thead th {\n",
       "        text-align: right;\n",
       "    }\n",
       "</style>\n",
       "<table border=\"1\" class=\"dataframe\">\n",
       "  <thead>\n",
       "    <tr style=\"text-align: right;\">\n",
       "      <th></th>\n",
       "      <th>Limit</th>\n",
       "      <th>Rating</th>\n",
       "      <th>Cards</th>\n",
       "      <th>Age</th>\n",
       "      <th>Education</th>\n",
       "    </tr>\n",
       "  </thead>\n",
       "  <tbody>\n",
       "    <tr>\n",
       "      <th>0</th>\n",
       "      <td>3606</td>\n",
       "      <td>283</td>\n",
       "      <td>2</td>\n",
       "      <td>34</td>\n",
       "      <td>11</td>\n",
       "    </tr>\n",
       "    <tr>\n",
       "      <th>1</th>\n",
       "      <td>6645</td>\n",
       "      <td>483</td>\n",
       "      <td>3</td>\n",
       "      <td>82</td>\n",
       "      <td>15</td>\n",
       "    </tr>\n",
       "    <tr>\n",
       "      <th>2</th>\n",
       "      <td>7075</td>\n",
       "      <td>514</td>\n",
       "      <td>4</td>\n",
       "      <td>71</td>\n",
       "      <td>11</td>\n",
       "    </tr>\n",
       "    <tr>\n",
       "      <th>3</th>\n",
       "      <td>9504</td>\n",
       "      <td>681</td>\n",
       "      <td>3</td>\n",
       "      <td>36</td>\n",
       "      <td>11</td>\n",
       "    </tr>\n",
       "    <tr>\n",
       "      <th>4</th>\n",
       "      <td>4897</td>\n",
       "      <td>357</td>\n",
       "      <td>2</td>\n",
       "      <td>68</td>\n",
       "      <td>16</td>\n",
       "    </tr>\n",
       "  </tbody>\n",
       "</table>\n",
       "</div>"
      ],
      "text/plain": [
       "   Limit  Rating  Cards  Age  Education\n",
       "0   3606     283      2   34         11\n",
       "1   6645     483      3   82         15\n",
       "2   7075     514      4   71         11\n",
       "3   9504     681      3   36         11\n",
       "4   4897     357      2   68         16"
      ]
     },
     "execution_count": 1180,
     "metadata": {},
     "output_type": "execute_result"
    }
   ],
   "source": [
    "credit = pd.read_csv('credit.csv')\n",
    "x = credit.drop('Balance', axis=1)\n",
    "x = x.drop('Income', axis=1)\n",
    "y = credit['Balance']\n",
    "x.head()"
   ]
  },
  {
   "cell_type": "code",
   "execution_count": 1181,
   "metadata": {},
   "outputs": [
    {
     "name": "stdout",
     "output_type": "stream",
     "text": [
      "320 5\n",
      "Mse in balance in calculating balance 76623.73552032554\n"
     ]
    }
   ],
   "source": [
    "X_train, X_test, y_train, y_test = train_test_split(x, y, test_size=0.2, random_state=42)\n",
    "\n",
    "X_train = X_train.to_numpy()\n",
    "y_train = y_train.to_numpy()\n",
    "X_test = X_test.to_numpy()\n",
    "y_test = y_test.to_numpy()\n",
    "\n",
    "X_train = scaler.fit_transform(X_train)\n",
    "X_test = scaler.fit_transform(X_test)\n",
    "\n",
    "model_excluding_income = Multiple_Lin_Reg(learning_rate=0.01, epochs=10000)\n",
    "model_excluding_income.fit(X_train, y_train)\n",
    "pred_excluding_income = model_excluding_income.predict(X_test)\n",
    "mse_excluding_income =  mean_squared_error(y_test, pred_excluding_income)\n",
    "print(\"Mse in balance in calculating balance\", mse_excluding_income)"
   ]
  },
  {
   "cell_type": "markdown",
   "metadata": {},
   "source": [
    "#### *Excluding Limit*"
   ]
  },
  {
   "cell_type": "code",
   "execution_count": 1182,
   "metadata": {},
   "outputs": [
    {
     "data": {
      "text/html": [
       "<div>\n",
       "<style scoped>\n",
       "    .dataframe tbody tr th:only-of-type {\n",
       "        vertical-align: middle;\n",
       "    }\n",
       "\n",
       "    .dataframe tbody tr th {\n",
       "        vertical-align: top;\n",
       "    }\n",
       "\n",
       "    .dataframe thead th {\n",
       "        text-align: right;\n",
       "    }\n",
       "</style>\n",
       "<table border=\"1\" class=\"dataframe\">\n",
       "  <thead>\n",
       "    <tr style=\"text-align: right;\">\n",
       "      <th></th>\n",
       "      <th>Income</th>\n",
       "      <th>Rating</th>\n",
       "      <th>Cards</th>\n",
       "      <th>Age</th>\n",
       "      <th>Education</th>\n",
       "    </tr>\n",
       "  </thead>\n",
       "  <tbody>\n",
       "    <tr>\n",
       "      <th>0</th>\n",
       "      <td>14.891</td>\n",
       "      <td>283</td>\n",
       "      <td>2</td>\n",
       "      <td>34</td>\n",
       "      <td>11</td>\n",
       "    </tr>\n",
       "    <tr>\n",
       "      <th>1</th>\n",
       "      <td>106.025</td>\n",
       "      <td>483</td>\n",
       "      <td>3</td>\n",
       "      <td>82</td>\n",
       "      <td>15</td>\n",
       "    </tr>\n",
       "    <tr>\n",
       "      <th>2</th>\n",
       "      <td>104.593</td>\n",
       "      <td>514</td>\n",
       "      <td>4</td>\n",
       "      <td>71</td>\n",
       "      <td>11</td>\n",
       "    </tr>\n",
       "    <tr>\n",
       "      <th>3</th>\n",
       "      <td>148.924</td>\n",
       "      <td>681</td>\n",
       "      <td>3</td>\n",
       "      <td>36</td>\n",
       "      <td>11</td>\n",
       "    </tr>\n",
       "    <tr>\n",
       "      <th>4</th>\n",
       "      <td>55.882</td>\n",
       "      <td>357</td>\n",
       "      <td>2</td>\n",
       "      <td>68</td>\n",
       "      <td>16</td>\n",
       "    </tr>\n",
       "  </tbody>\n",
       "</table>\n",
       "</div>"
      ],
      "text/plain": [
       "    Income  Rating  Cards  Age  Education\n",
       "0   14.891     283      2   34         11\n",
       "1  106.025     483      3   82         15\n",
       "2  104.593     514      4   71         11\n",
       "3  148.924     681      3   36         11\n",
       "4   55.882     357      2   68         16"
      ]
     },
     "execution_count": 1182,
     "metadata": {},
     "output_type": "execute_result"
    }
   ],
   "source": [
    "credit = pd.read_csv('credit.csv')\n",
    "x = credit.drop('Balance', axis=1)\n",
    "x = x.drop('Limit', axis=1)\n",
    "y = credit['Balance']\n",
    "x.head()"
   ]
  },
  {
   "cell_type": "code",
   "execution_count": 1183,
   "metadata": {},
   "outputs": [
    {
     "name": "stdout",
     "output_type": "stream",
     "text": [
      "320 5\n",
      "Mse in balance in calculating balance 42141.208782008485\n"
     ]
    }
   ],
   "source": [
    "X_train, X_test, y_train, y_test = train_test_split(x, y, test_size=0.2, random_state=42)\n",
    "X_train = X_train.to_numpy()\n",
    "y_train = y_train.to_numpy()\n",
    "X_test = X_test.to_numpy()\n",
    "y_test = y_test.to_numpy()\n",
    "\n",
    "X_train = scaler.fit_transform(X_train)\n",
    "X_test = scaler.fit_transform(X_test)\n",
    "\n",
    "model_excluding_limit = Multiple_Lin_Reg(learning_rate=0.01, epochs=10000)\n",
    "model_excluding_limit.fit(X_train, y_train)\n",
    "pred_excluding_limit = model_excluding_limit.predict(X_test)\n",
    "mse_excluding_limit = mean_squared_error(y_test, pred_excluding_limit)\n",
    "print(\"Mse in balance in calculating balance\", mse_excluding_limit)"
   ]
  },
  {
   "cell_type": "markdown",
   "metadata": {},
   "source": [
    "#### *Excluding Rating*"
   ]
  },
  {
   "cell_type": "code",
   "execution_count": 1184,
   "metadata": {},
   "outputs": [
    {
     "data": {
      "text/html": [
       "<div>\n",
       "<style scoped>\n",
       "    .dataframe tbody tr th:only-of-type {\n",
       "        vertical-align: middle;\n",
       "    }\n",
       "\n",
       "    .dataframe tbody tr th {\n",
       "        vertical-align: top;\n",
       "    }\n",
       "\n",
       "    .dataframe thead th {\n",
       "        text-align: right;\n",
       "    }\n",
       "</style>\n",
       "<table border=\"1\" class=\"dataframe\">\n",
       "  <thead>\n",
       "    <tr style=\"text-align: right;\">\n",
       "      <th></th>\n",
       "      <th>Income</th>\n",
       "      <th>Limit</th>\n",
       "      <th>Cards</th>\n",
       "      <th>Age</th>\n",
       "      <th>Education</th>\n",
       "    </tr>\n",
       "  </thead>\n",
       "  <tbody>\n",
       "    <tr>\n",
       "      <th>0</th>\n",
       "      <td>14.891</td>\n",
       "      <td>3606</td>\n",
       "      <td>2</td>\n",
       "      <td>34</td>\n",
       "      <td>11</td>\n",
       "    </tr>\n",
       "    <tr>\n",
       "      <th>1</th>\n",
       "      <td>106.025</td>\n",
       "      <td>6645</td>\n",
       "      <td>3</td>\n",
       "      <td>82</td>\n",
       "      <td>15</td>\n",
       "    </tr>\n",
       "    <tr>\n",
       "      <th>2</th>\n",
       "      <td>104.593</td>\n",
       "      <td>7075</td>\n",
       "      <td>4</td>\n",
       "      <td>71</td>\n",
       "      <td>11</td>\n",
       "    </tr>\n",
       "    <tr>\n",
       "      <th>3</th>\n",
       "      <td>148.924</td>\n",
       "      <td>9504</td>\n",
       "      <td>3</td>\n",
       "      <td>36</td>\n",
       "      <td>11</td>\n",
       "    </tr>\n",
       "    <tr>\n",
       "      <th>4</th>\n",
       "      <td>55.882</td>\n",
       "      <td>4897</td>\n",
       "      <td>2</td>\n",
       "      <td>68</td>\n",
       "      <td>16</td>\n",
       "    </tr>\n",
       "  </tbody>\n",
       "</table>\n",
       "</div>"
      ],
      "text/plain": [
       "    Income  Limit  Cards  Age  Education\n",
       "0   14.891   3606      2   34         11\n",
       "1  106.025   6645      3   82         15\n",
       "2  104.593   7075      4   71         11\n",
       "3  148.924   9504      3   36         11\n",
       "4   55.882   4897      2   68         16"
      ]
     },
     "execution_count": 1184,
     "metadata": {},
     "output_type": "execute_result"
    }
   ],
   "source": [
    "credit = pd.read_csv('credit.csv')\n",
    "x = credit.drop('Balance', axis=1)\n",
    "x = x.drop('Rating', axis=1)\n",
    "y = credit['Balance']\n",
    "x.head()"
   ]
  },
  {
   "cell_type": "code",
   "execution_count": 1185,
   "metadata": {},
   "outputs": [
    {
     "name": "stdout",
     "output_type": "stream",
     "text": [
      "320 5\n",
      "Mse in balance in calculating balance 44422.640823537\n"
     ]
    }
   ],
   "source": [
    "X_train, X_test, y_train, y_test = train_test_split(x, y, test_size=0.2, random_state=42)\n",
    "X_train = X_train.to_numpy()\n",
    "y_train = y_train.to_numpy()\n",
    "X_test = X_test.to_numpy()\n",
    "y_test = y_test.to_numpy()\n",
    "\n",
    "X_train = scaler.fit_transform(X_train)\n",
    "X_test = scaler.fit_transform(X_test)\n",
    "\n",
    "model_excluding_rating = Multiple_Lin_Reg(learning_rate=0.01, epochs=10000)\n",
    "model_excluding_rating.fit(X_train, y_train)\n",
    "pred_excluding_rating = model_excluding_rating.predict(X_test)\n",
    "mse_excluding_rating = mean_squared_error(y_test, pred_excluding_rating)\n",
    "print(\"Mse in balance in calculating balance\", mse_excluding_rating)"
   ]
  },
  {
   "cell_type": "markdown",
   "metadata": {},
   "source": [
    "#### *Excluding Cards*"
   ]
  },
  {
   "cell_type": "code",
   "execution_count": 1186,
   "metadata": {},
   "outputs": [
    {
     "data": {
      "text/html": [
       "<div>\n",
       "<style scoped>\n",
       "    .dataframe tbody tr th:only-of-type {\n",
       "        vertical-align: middle;\n",
       "    }\n",
       "\n",
       "    .dataframe tbody tr th {\n",
       "        vertical-align: top;\n",
       "    }\n",
       "\n",
       "    .dataframe thead th {\n",
       "        text-align: right;\n",
       "    }\n",
       "</style>\n",
       "<table border=\"1\" class=\"dataframe\">\n",
       "  <thead>\n",
       "    <tr style=\"text-align: right;\">\n",
       "      <th></th>\n",
       "      <th>Income</th>\n",
       "      <th>Limit</th>\n",
       "      <th>Rating</th>\n",
       "      <th>Age</th>\n",
       "      <th>Education</th>\n",
       "    </tr>\n",
       "  </thead>\n",
       "  <tbody>\n",
       "    <tr>\n",
       "      <th>0</th>\n",
       "      <td>14.891</td>\n",
       "      <td>3606</td>\n",
       "      <td>283</td>\n",
       "      <td>34</td>\n",
       "      <td>11</td>\n",
       "    </tr>\n",
       "    <tr>\n",
       "      <th>1</th>\n",
       "      <td>106.025</td>\n",
       "      <td>6645</td>\n",
       "      <td>483</td>\n",
       "      <td>82</td>\n",
       "      <td>15</td>\n",
       "    </tr>\n",
       "    <tr>\n",
       "      <th>2</th>\n",
       "      <td>104.593</td>\n",
       "      <td>7075</td>\n",
       "      <td>514</td>\n",
       "      <td>71</td>\n",
       "      <td>11</td>\n",
       "    </tr>\n",
       "    <tr>\n",
       "      <th>3</th>\n",
       "      <td>148.924</td>\n",
       "      <td>9504</td>\n",
       "      <td>681</td>\n",
       "      <td>36</td>\n",
       "      <td>11</td>\n",
       "    </tr>\n",
       "    <tr>\n",
       "      <th>4</th>\n",
       "      <td>55.882</td>\n",
       "      <td>4897</td>\n",
       "      <td>357</td>\n",
       "      <td>68</td>\n",
       "      <td>16</td>\n",
       "    </tr>\n",
       "  </tbody>\n",
       "</table>\n",
       "</div>"
      ],
      "text/plain": [
       "    Income  Limit  Rating  Age  Education\n",
       "0   14.891   3606     283   34         11\n",
       "1  106.025   6645     483   82         15\n",
       "2  104.593   7075     514   71         11\n",
       "3  148.924   9504     681   36         11\n",
       "4   55.882   4897     357   68         16"
      ]
     },
     "execution_count": 1186,
     "metadata": {},
     "output_type": "execute_result"
    }
   ],
   "source": [
    "credit = pd.read_csv('credit.csv')\n",
    "x = credit.drop('Balance', axis=1)\n",
    "x = x.drop('Cards', axis=1)\n",
    "y = credit['Balance']\n",
    "x.head()"
   ]
  },
  {
   "cell_type": "code",
   "execution_count": 1187,
   "metadata": {},
   "outputs": [
    {
     "name": "stdout",
     "output_type": "stream",
     "text": [
      "320 5\n"
     ]
    },
    {
     "name": "stdout",
     "output_type": "stream",
     "text": [
      "Mse in balance in calculating balance 42791.9051265283\n"
     ]
    }
   ],
   "source": [
    "X_train, X_test, y_train, y_test = train_test_split(x, y, test_size=0.2, random_state=42)\n",
    "X_train = X_train.to_numpy()\n",
    "y_train = y_train.to_numpy()\n",
    "X_test = X_test.to_numpy()\n",
    "y_test = y_test.to_numpy()\n",
    "\n",
    "X_train = scaler.fit_transform(X_train)\n",
    "X_test = scaler.fit_transform(X_test)\n",
    "\n",
    "model_excluding_cards = Multiple_Lin_Reg(learning_rate=0.01, epochs=10000)\n",
    "model_excluding_cards.fit(X_train, y_train)\n",
    "pred_excluding_cards = model_excluding_cards.predict(X_test)\n",
    "mse_excluding_cards = mean_squared_error(y_test, pred_excluding_cards)\n",
    "print(\"Mse in balance in calculating balance\", mse_excluding_cards)"
   ]
  },
  {
   "cell_type": "markdown",
   "metadata": {},
   "source": [
    "#### *Excluding Age*"
   ]
  },
  {
   "cell_type": "code",
   "execution_count": 1188,
   "metadata": {},
   "outputs": [
    {
     "data": {
      "text/html": [
       "<div>\n",
       "<style scoped>\n",
       "    .dataframe tbody tr th:only-of-type {\n",
       "        vertical-align: middle;\n",
       "    }\n",
       "\n",
       "    .dataframe tbody tr th {\n",
       "        vertical-align: top;\n",
       "    }\n",
       "\n",
       "    .dataframe thead th {\n",
       "        text-align: right;\n",
       "    }\n",
       "</style>\n",
       "<table border=\"1\" class=\"dataframe\">\n",
       "  <thead>\n",
       "    <tr style=\"text-align: right;\">\n",
       "      <th></th>\n",
       "      <th>Income</th>\n",
       "      <th>Limit</th>\n",
       "      <th>Rating</th>\n",
       "      <th>Cards</th>\n",
       "      <th>Education</th>\n",
       "    </tr>\n",
       "  </thead>\n",
       "  <tbody>\n",
       "    <tr>\n",
       "      <th>0</th>\n",
       "      <td>14.891</td>\n",
       "      <td>3606</td>\n",
       "      <td>283</td>\n",
       "      <td>2</td>\n",
       "      <td>11</td>\n",
       "    </tr>\n",
       "    <tr>\n",
       "      <th>1</th>\n",
       "      <td>106.025</td>\n",
       "      <td>6645</td>\n",
       "      <td>483</td>\n",
       "      <td>3</td>\n",
       "      <td>15</td>\n",
       "    </tr>\n",
       "    <tr>\n",
       "      <th>2</th>\n",
       "      <td>104.593</td>\n",
       "      <td>7075</td>\n",
       "      <td>514</td>\n",
       "      <td>4</td>\n",
       "      <td>11</td>\n",
       "    </tr>\n",
       "    <tr>\n",
       "      <th>3</th>\n",
       "      <td>148.924</td>\n",
       "      <td>9504</td>\n",
       "      <td>681</td>\n",
       "      <td>3</td>\n",
       "      <td>11</td>\n",
       "    </tr>\n",
       "    <tr>\n",
       "      <th>4</th>\n",
       "      <td>55.882</td>\n",
       "      <td>4897</td>\n",
       "      <td>357</td>\n",
       "      <td>2</td>\n",
       "      <td>16</td>\n",
       "    </tr>\n",
       "  </tbody>\n",
       "</table>\n",
       "</div>"
      ],
      "text/plain": [
       "    Income  Limit  Rating  Cards  Education\n",
       "0   14.891   3606     283      2         11\n",
       "1  106.025   6645     483      3         15\n",
       "2  104.593   7075     514      4         11\n",
       "3  148.924   9504     681      3         11\n",
       "4   55.882   4897     357      2         16"
      ]
     },
     "execution_count": 1188,
     "metadata": {},
     "output_type": "execute_result"
    }
   ],
   "source": [
    "credit = pd.read_csv('credit.csv')\n",
    "x = credit.drop('Balance', axis=1)\n",
    "x = x.drop('Age', axis=1)\n",
    "y = credit['Balance']\n",
    "x.head()"
   ]
  },
  {
   "cell_type": "code",
   "execution_count": 1189,
   "metadata": {},
   "outputs": [
    {
     "name": "stdout",
     "output_type": "stream",
     "text": [
      "320 5\n",
      "Mse in balance in calculating balance 43135.02485236889\n"
     ]
    }
   ],
   "source": [
    "X_train, X_test, y_train, y_test = train_test_split(x, y, test_size=0.2, random_state=42)\n",
    "\n",
    "X_train = X_train.to_numpy()\n",
    "y_train = y_train.to_numpy()\n",
    "X_test = X_test.to_numpy()\n",
    "y_test = y_test.to_numpy()\n",
    "\n",
    "X_train = scaler.fit_transform(X_train)\n",
    "X_test = scaler.fit_transform(X_test)\n",
    "\n",
    "model_excluding_age = Multiple_Lin_Reg(learning_rate=0.01, epochs=10000)\n",
    "model_excluding_age.fit(X_train, y_train)\n",
    "pred_excluding_age = model_excluding_age.predict(X_test)\n",
    "mse_excluding_age = mean_squared_error(y_test, pred_excluding_age)\n",
    "print(\"Mse in balance in calculating balance\", mse_excluding_age)"
   ]
  },
  {
   "cell_type": "markdown",
   "metadata": {},
   "source": [
    "#### *Excluding Education*"
   ]
  },
  {
   "cell_type": "code",
   "execution_count": 1190,
   "metadata": {},
   "outputs": [
    {
     "data": {
      "text/html": [
       "<div>\n",
       "<style scoped>\n",
       "    .dataframe tbody tr th:only-of-type {\n",
       "        vertical-align: middle;\n",
       "    }\n",
       "\n",
       "    .dataframe tbody tr th {\n",
       "        vertical-align: top;\n",
       "    }\n",
       "\n",
       "    .dataframe thead th {\n",
       "        text-align: right;\n",
       "    }\n",
       "</style>\n",
       "<table border=\"1\" class=\"dataframe\">\n",
       "  <thead>\n",
       "    <tr style=\"text-align: right;\">\n",
       "      <th></th>\n",
       "      <th>Income</th>\n",
       "      <th>Limit</th>\n",
       "      <th>Rating</th>\n",
       "      <th>Cards</th>\n",
       "      <th>Education</th>\n",
       "    </tr>\n",
       "  </thead>\n",
       "  <tbody>\n",
       "    <tr>\n",
       "      <th>0</th>\n",
       "      <td>14.891</td>\n",
       "      <td>3606</td>\n",
       "      <td>283</td>\n",
       "      <td>2</td>\n",
       "      <td>11</td>\n",
       "    </tr>\n",
       "    <tr>\n",
       "      <th>1</th>\n",
       "      <td>106.025</td>\n",
       "      <td>6645</td>\n",
       "      <td>483</td>\n",
       "      <td>3</td>\n",
       "      <td>15</td>\n",
       "    </tr>\n",
       "    <tr>\n",
       "      <th>2</th>\n",
       "      <td>104.593</td>\n",
       "      <td>7075</td>\n",
       "      <td>514</td>\n",
       "      <td>4</td>\n",
       "      <td>11</td>\n",
       "    </tr>\n",
       "    <tr>\n",
       "      <th>3</th>\n",
       "      <td>148.924</td>\n",
       "      <td>9504</td>\n",
       "      <td>681</td>\n",
       "      <td>3</td>\n",
       "      <td>11</td>\n",
       "    </tr>\n",
       "    <tr>\n",
       "      <th>4</th>\n",
       "      <td>55.882</td>\n",
       "      <td>4897</td>\n",
       "      <td>357</td>\n",
       "      <td>2</td>\n",
       "      <td>16</td>\n",
       "    </tr>\n",
       "  </tbody>\n",
       "</table>\n",
       "</div>"
      ],
      "text/plain": [
       "    Income  Limit  Rating  Cards  Education\n",
       "0   14.891   3606     283      2         11\n",
       "1  106.025   6645     483      3         15\n",
       "2  104.593   7075     514      4         11\n",
       "3  148.924   9504     681      3         11\n",
       "4   55.882   4897     357      2         16"
      ]
     },
     "execution_count": 1190,
     "metadata": {},
     "output_type": "execute_result"
    }
   ],
   "source": [
    "credit = pd.read_csv('credit.csv')\n",
    "x = credit.drop('Balance', axis=1)\n",
    "x = x.drop('Age', axis=1)\n",
    "y = credit['Balance']\n",
    "x.head()"
   ]
  },
  {
   "cell_type": "code",
   "execution_count": 1191,
   "metadata": {},
   "outputs": [
    {
     "name": "stdout",
     "output_type": "stream",
     "text": [
      "320 5\n",
      "Mse in calculating balance 43135.02485236889\n"
     ]
    }
   ],
   "source": [
    "X_train, X_test, y_train, y_test = train_test_split(x, y, test_size=0.2, random_state=42)\n",
    "X_train = X_train.to_numpy()\n",
    "y_train = y_train.to_numpy()\n",
    "X_test = X_test.to_numpy()\n",
    "y_test = y_test.to_numpy()\n",
    "\n",
    "X_train = scaler.fit_transform(X_train)\n",
    "X_test = scaler.fit_transform(X_test)\n",
    "\n",
    "model_excluding_education = Multiple_Lin_Reg(learning_rate=0.01, epochs=10000)\n",
    "model_excluding_education.fit(X_train, y_train)\n",
    "pred_excluding_education = model_excluding_education.predict(X_test)\n",
    "mse_excluding_education = mean_squared_error(y_test, pred_excluding_education)\n",
    "print(\"Mse in calculating balance\", mse_excluding_education)"
   ]
  },
  {
   "cell_type": "markdown",
   "metadata": {},
   "source": [
    "### Comparison of errors when excluding different features"
   ]
  },
  {
   "cell_type": "code",
   "execution_count": 1192,
   "metadata": {},
   "outputs": [
    {
     "data": {
      "text/html": [
       "<div>\n",
       "<style scoped>\n",
       "    .dataframe tbody tr th:only-of-type {\n",
       "        vertical-align: middle;\n",
       "    }\n",
       "\n",
       "    .dataframe tbody tr th {\n",
       "        vertical-align: top;\n",
       "    }\n",
       "\n",
       "    .dataframe thead th {\n",
       "        text-align: right;\n",
       "    }\n",
       "</style>\n",
       "<table border=\"1\" class=\"dataframe\">\n",
       "  <thead>\n",
       "    <tr style=\"text-align: right;\">\n",
       "      <th></th>\n",
       "      <th>Feature excluded</th>\n",
       "      <th>Mse Value</th>\n",
       "    </tr>\n",
       "  </thead>\n",
       "  <tbody>\n",
       "    <tr>\n",
       "      <th>0</th>\n",
       "      <td>Income</td>\n",
       "      <td>76623.735520</td>\n",
       "    </tr>\n",
       "    <tr>\n",
       "      <th>1</th>\n",
       "      <td>Limit</td>\n",
       "      <td>42141.208782</td>\n",
       "    </tr>\n",
       "    <tr>\n",
       "      <th>2</th>\n",
       "      <td>Rating</td>\n",
       "      <td>44422.640824</td>\n",
       "    </tr>\n",
       "    <tr>\n",
       "      <th>3</th>\n",
       "      <td>Cards</td>\n",
       "      <td>42791.905127</td>\n",
       "    </tr>\n",
       "    <tr>\n",
       "      <th>4</th>\n",
       "      <td>Age</td>\n",
       "      <td>43135.024852</td>\n",
       "    </tr>\n",
       "    <tr>\n",
       "      <th>5</th>\n",
       "      <td>Education</td>\n",
       "      <td>43135.024852</td>\n",
       "    </tr>\n",
       "  </tbody>\n",
       "</table>\n",
       "</div>"
      ],
      "text/plain": [
       "  Feature excluded     Mse Value\n",
       "0           Income  76623.735520\n",
       "1            Limit  42141.208782\n",
       "2           Rating  44422.640824\n",
       "3            Cards  42791.905127\n",
       "4              Age  43135.024852\n",
       "5        Education  43135.024852"
      ]
     },
     "execution_count": 1192,
     "metadata": {},
     "output_type": "execute_result"
    }
   ],
   "source": [
    "data = {'Feature excluded': ['Income', 'Limit', 'Rating', 'Cards', 'Age','Education'],\n",
    "        'Mse Value': [mse_excluding_income, mse_excluding_limit, mse_excluding_rating, mse_excluding_cards, mse_excluding_age, mse_excluding_education]}\n",
    "\n",
    "mse_df = pd.DataFrame(data)\n",
    "mse_df"
   ]
  },
  {
   "cell_type": "markdown",
   "metadata": {},
   "source": []
  },
  {
   "cell_type": "markdown",
   "metadata": {},
   "source": [
    " #### *Which feature has the most impact on Balance?*\n",
    " \n",
    " - It can be seen that removing feature `Income` has a significant impact on the MSE of the Multiple Regression Fit, indicating that Income is a highly important feature in calculating Balance, not considering which significantly impacts the accuracy score. \n",
    "\n",
    " - The reduction in MSE signifies that accounting for these interactions has a discernible impact on the dependent variable's value. This underlines the importance of capturing and understanding the interplay between different features, as it can significantly influence the predictive accuracy and overall performance of the model\n",
    "\n",
    "\n",
    "\n",
    " #### *Can any feature be discarded?*\n",
    "\n",
    " - Except `Income`, MSE is not majorly affected by removing any other feature as can be seen from the mse table above.\n",
    "\n",
    " - It may be concluding that removing any other feature except for `Income` will not have a significant impact on the MSE\n"
   ]
  },
  {
   "cell_type": "markdown",
   "metadata": {},
   "source": [
    "####  2.3 Interaction Effects"
   ]
  },
  {
   "cell_type": "code",
   "execution_count": 1193,
   "metadata": {},
   "outputs": [
    {
     "data": {
      "text/html": [
       "<div>\n",
       "<style scoped>\n",
       "    .dataframe tbody tr th:only-of-type {\n",
       "        vertical-align: middle;\n",
       "    }\n",
       "\n",
       "    .dataframe tbody tr th {\n",
       "        vertical-align: top;\n",
       "    }\n",
       "\n",
       "    .dataframe thead th {\n",
       "        text-align: right;\n",
       "    }\n",
       "</style>\n",
       "<table border=\"1\" class=\"dataframe\">\n",
       "  <thead>\n",
       "    <tr style=\"text-align: right;\">\n",
       "      <th></th>\n",
       "      <th>Income</th>\n",
       "      <th>Limit</th>\n",
       "      <th>Rating</th>\n",
       "      <th>Cards</th>\n",
       "      <th>Age</th>\n",
       "      <th>Education</th>\n",
       "      <th>Balance</th>\n",
       "      <th>Interaction</th>\n",
       "    </tr>\n",
       "  </thead>\n",
       "  <tbody>\n",
       "    <tr>\n",
       "      <th>0</th>\n",
       "      <td>14.891</td>\n",
       "      <td>3606</td>\n",
       "      <td>283</td>\n",
       "      <td>2</td>\n",
       "      <td>34</td>\n",
       "      <td>11</td>\n",
       "      <td>333</td>\n",
       "      <td>9622</td>\n",
       "    </tr>\n",
       "    <tr>\n",
       "      <th>1</th>\n",
       "      <td>106.025</td>\n",
       "      <td>6645</td>\n",
       "      <td>483</td>\n",
       "      <td>3</td>\n",
       "      <td>82</td>\n",
       "      <td>15</td>\n",
       "      <td>903</td>\n",
       "      <td>39606</td>\n",
       "    </tr>\n",
       "    <tr>\n",
       "      <th>2</th>\n",
       "      <td>104.593</td>\n",
       "      <td>7075</td>\n",
       "      <td>514</td>\n",
       "      <td>4</td>\n",
       "      <td>71</td>\n",
       "      <td>11</td>\n",
       "      <td>580</td>\n",
       "      <td>36494</td>\n",
       "    </tr>\n",
       "    <tr>\n",
       "      <th>3</th>\n",
       "      <td>148.924</td>\n",
       "      <td>9504</td>\n",
       "      <td>681</td>\n",
       "      <td>3</td>\n",
       "      <td>36</td>\n",
       "      <td>11</td>\n",
       "      <td>964</td>\n",
       "      <td>24516</td>\n",
       "    </tr>\n",
       "    <tr>\n",
       "      <th>4</th>\n",
       "      <td>55.882</td>\n",
       "      <td>4897</td>\n",
       "      <td>357</td>\n",
       "      <td>2</td>\n",
       "      <td>68</td>\n",
       "      <td>16</td>\n",
       "      <td>331</td>\n",
       "      <td>24276</td>\n",
       "    </tr>\n",
       "  </tbody>\n",
       "</table>\n",
       "</div>"
      ],
      "text/plain": [
       "    Income  Limit  Rating  Cards  Age  Education  Balance  Interaction\n",
       "0   14.891   3606     283      2   34         11      333         9622\n",
       "1  106.025   6645     483      3   82         15      903        39606\n",
       "2  104.593   7075     514      4   71         11      580        36494\n",
       "3  148.924   9504     681      3   36         11      964        24516\n",
       "4   55.882   4897     357      2   68         16      331        24276"
      ]
     },
     "execution_count": 1193,
     "metadata": {},
     "output_type": "execute_result"
    }
   ],
   "source": [
    "credit['Interaction'] = credit['Rating'] * credit['Age']\n",
    "credit.head()"
   ]
  },
  {
   "cell_type": "code",
   "execution_count": 1194,
   "metadata": {},
   "outputs": [],
   "source": [
    "x = credit.drop('Balance', axis=1)\n",
    "y = credit['Balance']\n",
    "\n",
    "X_train, X_test, y_train, y_test = train_test_split(x, y, test_size=0.2, random_state=42)\n",
    "X_train = X_train.to_numpy()\n",
    "y_train = y_train.to_numpy()\n",
    "X_test = X_test.to_numpy()\n",
    "y_test = y_test.to_numpy()\n",
    "\n",
    "scaler = StandardScaler()\n",
    "X_train = scaler.fit_transform(X_train)\n",
    "X_test = scaler.fit_transform(X_test)\n",
    "# X_train.shape, y_train.shape, X_test.shape, y_test.shape"
   ]
  },
  {
   "cell_type": "code",
   "execution_count": 1195,
   "metadata": {},
   "outputs": [
    {
     "name": "stdout",
     "output_type": "stream",
     "text": [
      "320 7\n",
      "weights [-257.40455115  316.478277    289.53331355   20.2932969   -26.92481059\n",
      "    7.15520206   21.95601763]\n",
      "bias 518.8249999999989\n"
     ]
    }
   ],
   "source": [
    "mult_lin_reg_model = Multiple_Lin_Reg(learning_rate=0.05, epochs=1000)\n",
    "weights, bias = mult_lin_reg_model.fit(X_train, y_train)\n",
    "print(\"weights\", weights)\n",
    "print(\"bias\", bias)"
   ]
  },
  {
   "cell_type": "code",
   "execution_count": 1196,
   "metadata": {},
   "outputs": [
    {
     "name": "stdout",
     "output_type": "stream",
     "text": [
      "MSE without considering interaction effect is 42906.56241476693\n",
      "MSE when interaction effect is included is 42795.2647844797\n"
     ]
    }
   ],
   "source": [
    "# Make predictions\n",
    "\n",
    "prediction_interaction = mult_lin_reg_model.predict(X_test)\n",
    "print(\"MSE without considering interaction effect is\" , mse_original)\n",
    "print(\"MSE when interaction effect is included is\", mean_squared_error(y_test, prediction_interaction))"
   ]
  },
  {
   "cell_type": "markdown",
   "metadata": {},
   "source": [
    "### *Insgihts when Interaction Effect is taken into account* :\n",
    "\n",
    "- We observe that upon incorporating an additional feature that represents the interaction between the `Rating` and `Age` features in the dataset, the Mean squared error is minimised to some extent. The weight for the seventh interaction feature is also non-zero.\n",
    "\n",
    "- The change in MSE signifies that accounting for these interactions has a discernible impact on the dependent variable's value. This underlines the importance of capturing and understanding the interplay between different features, as it can significantly influence the predictive accuracy and overall performance of the model"
   ]
  },
  {
   "cell_type": "markdown",
   "metadata": {
    "id": "wDFv0bB-0Wfx"
   },
   "source": [
    "### Part 3: Shark Attacks\n",
    "\n",
    "This is a fun dataset that aims to predict the number of shark attacks (`SharkAttacks`) using variables like `Year`, `Month`, `Temperature`, and `IceCreamSales`. This dataset has been used in popular media to show how correlation does not imply causation. Test whether predictions made with ice cream sales data are any better/worse than predictions made by neglecting ice cream sales data.\n",
    "\n",
    "This sort of analysis reminds us that it is important to look at the data before using it for learning representations."
   ]
  },
  {
   "cell_type": "code",
   "execution_count": 1197,
   "metadata": {
    "colab": {
     "base_uri": "https://localhost:8080/",
     "height": 206
    },
    "id": "GgftPmoIDChS",
    "outputId": "07e449f9-be77-4155-ccee-6b8efe63f544"
   },
   "outputs": [
    {
     "data": {
      "text/html": [
       "<div>\n",
       "<style scoped>\n",
       "    .dataframe tbody tr th:only-of-type {\n",
       "        vertical-align: middle;\n",
       "    }\n",
       "\n",
       "    .dataframe tbody tr th {\n",
       "        vertical-align: top;\n",
       "    }\n",
       "\n",
       "    .dataframe thead th {\n",
       "        text-align: right;\n",
       "    }\n",
       "</style>\n",
       "<table border=\"1\" class=\"dataframe\">\n",
       "  <thead>\n",
       "    <tr style=\"text-align: right;\">\n",
       "      <th></th>\n",
       "      <th>Year</th>\n",
       "      <th>Month</th>\n",
       "      <th>SharkAttacks</th>\n",
       "      <th>Temperature</th>\n",
       "      <th>IceCreamSales</th>\n",
       "    </tr>\n",
       "  </thead>\n",
       "  <tbody>\n",
       "    <tr>\n",
       "      <th>0</th>\n",
       "      <td>2008</td>\n",
       "      <td>1</td>\n",
       "      <td>25</td>\n",
       "      <td>11.9</td>\n",
       "      <td>76</td>\n",
       "    </tr>\n",
       "    <tr>\n",
       "      <th>1</th>\n",
       "      <td>2008</td>\n",
       "      <td>2</td>\n",
       "      <td>28</td>\n",
       "      <td>15.2</td>\n",
       "      <td>79</td>\n",
       "    </tr>\n",
       "    <tr>\n",
       "      <th>2</th>\n",
       "      <td>2008</td>\n",
       "      <td>3</td>\n",
       "      <td>32</td>\n",
       "      <td>17.2</td>\n",
       "      <td>91</td>\n",
       "    </tr>\n",
       "    <tr>\n",
       "      <th>3</th>\n",
       "      <td>2008</td>\n",
       "      <td>4</td>\n",
       "      <td>35</td>\n",
       "      <td>18.5</td>\n",
       "      <td>95</td>\n",
       "    </tr>\n",
       "    <tr>\n",
       "      <th>4</th>\n",
       "      <td>2008</td>\n",
       "      <td>5</td>\n",
       "      <td>38</td>\n",
       "      <td>19.4</td>\n",
       "      <td>103</td>\n",
       "    </tr>\n",
       "  </tbody>\n",
       "</table>\n",
       "</div>"
      ],
      "text/plain": [
       "   Year  Month  SharkAttacks  Temperature  IceCreamSales\n",
       "0  2008      1            25         11.9             76\n",
       "1  2008      2            28         15.2             79\n",
       "2  2008      3            32         17.2             91\n",
       "3  2008      4            35         18.5             95\n",
       "4  2008      5            38         19.4            103"
      ]
     },
     "execution_count": 1197,
     "metadata": {},
     "output_type": "execute_result"
    }
   ],
   "source": [
    "sharks = pd.read_csv('shark_attacks.csv')\n",
    "sharks.head()"
   ]
  },
  {
   "cell_type": "markdown",
   "metadata": {},
   "source": [
    "### Using Ice Cream Sales Data"
   ]
  },
  {
   "cell_type": "code",
   "execution_count": 1198,
   "metadata": {},
   "outputs": [],
   "source": [
    "x = sharks.drop('SharkAttacks', axis=1)\n",
    "y = sharks['SharkAttacks']\n",
    "\n",
    "X_train, X_test, y_train, y_test = train_test_split(x, y, test_size=0.8, random_state=42)\n",
    "\n",
    "X_train = X_train.to_numpy()\n",
    "y_train = y_train.to_numpy()\n",
    "X_test = X_test.to_numpy()\n",
    "y_test = y_test.to_numpy()\n",
    "\n",
    "scaler = StandardScaler()\n",
    "X_train = scaler.fit_transform(X_train)\n",
    "X_test = scaler.fit_transform(X_test)"
   ]
  },
  {
   "cell_type": "code",
   "execution_count": 1199,
   "metadata": {},
   "outputs": [],
   "source": [
    "# type(X_train), type(y_train), type(X_test), type(y_test)"
   ]
  },
  {
   "cell_type": "code",
   "execution_count": 1200,
   "metadata": {},
   "outputs": [
    {
     "name": "stdout",
     "output_type": "stream",
     "text": [
      "16 4\n",
      "MSE when Ice Cream Sales is included 44.80443901313578\n"
     ]
    }
   ],
   "source": [
    "mult_model_2 = Multiple_Lin_Reg()\n",
    "mult_model_2.fit(X_train, y_train)\n",
    "y_preds_2 = mult_model_2.predict(X_test)\n",
    "print(\"MSE when Ice Cream Sales is included\", mean_squared_error(y_test, y_preds_2))"
   ]
  },
  {
   "cell_type": "markdown",
   "metadata": {},
   "source": [
    "### Without Using Ice Cream Sales Data"
   ]
  },
  {
   "cell_type": "code",
   "execution_count": 1201,
   "metadata": {},
   "outputs": [],
   "source": [
    "sharks = sharks.drop('IceCreamSales', axis = 1)  # drop ice cream column\n",
    "\n",
    "x = sharks.drop('SharkAttacks', axis=1)\n",
    "y = sharks['SharkAttacks']\n",
    "\n",
    "X_train, X_test, y_train, y_test = train_test_split(x, y, test_size=0.2, random_state=42)\n",
    "X_train = X_train.to_numpy()\n",
    "y_train = y_train.to_numpy()\n",
    "X_test = X_test.to_numpy()\n",
    "y_test = y_test.to_numpy()\n",
    "\n",
    "scaler = StandardScaler()\n",
    "X_train = scaler.fit_transform(X_train)\n",
    "X_test = scaler.fit_transform(X_test)\n",
    "\n",
    "# X_train.shape, X_test.shape, y_train.shape, y_test.shape"
   ]
  },
  {
   "cell_type": "code",
   "execution_count": 1202,
   "metadata": {},
   "outputs": [
    {
     "name": "stdout",
     "output_type": "stream",
     "text": [
      "67 3\n",
      "MSE when Ice Cream Sales is excluded 48.30962851207795\n"
     ]
    }
   ],
   "source": [
    "mult_model_3 = Multiple_Lin_Reg()\n",
    "mult_model_3.fit(X_train, y_train)\n",
    "y_preds_3 = mult_model_3.predict(X_test)\n",
    "print(\"MSE when Ice Cream Sales is excluded\", mean_squared_error(y_test, y_preds_3) )"
   ]
  },
  {
   "cell_type": "markdown",
   "metadata": {},
   "source": [
    "#### *Observation* :\n",
    "\n",
    "1. We observe that removing `IceCreamSales` feature from the dataset does not have a significant impact on the MSE, however, the MSE increases by some amount when the feature is removed.\n",
    "\n",
    "2. This might mislead us to think that `IceCreamSales` is an important feature to calculate Shark attacks. However, in real life, it's crucial to understand that correlation does not imply causation. \n",
    "\n",
    "3. Just because there is a correlation between two variables, such as ice cream sales and shark attacks, doesn't mean that one causes the other. There might be an underlying factor, like warmer weather, that influences both ice cream sales and shark activity independently. Drawing conclusions based solely on correlation can lead to erroneous assumptions about causation. Therefore, it's essential to consider other factors and conduct more in-depth analyses before making causal claims."
   ]
  }
 ],
 "metadata": {
  "colab": {
   "provenance": []
  },
  "kernelspec": {
   "display_name": "Python 3 (ipykernel)",
   "language": "python",
   "name": "python3"
  },
  "language_info": {
   "codemirror_mode": {
    "name": "ipython",
    "version": 3
   },
   "file_extension": ".py",
   "mimetype": "text/x-python",
   "name": "python",
   "nbconvert_exporter": "python",
   "pygments_lexer": "ipython3",
   "version": "3.8.10"
  }
 },
 "nbformat": 4,
 "nbformat_minor": 1
}
